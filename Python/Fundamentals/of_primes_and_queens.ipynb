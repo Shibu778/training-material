{
 "cells": [
  {
   "cell_type": "markdown",
   "metadata": {},
   "source": [
    "# Of primes and queens"
   ]
  },
  {
   "cell_type": "markdown",
   "metadata": {},
   "source": [
    "## Primes"
   ]
  },
  {
   "cell_type": "markdown",
   "metadata": {},
   "source": [
    "Load the relevant modules."
   ]
  },
  {
   "cell_type": "code",
   "execution_count": null,
   "metadata": {},
   "outputs": [],
   "source": [
    "import itertools\n",
    "from math import sqrt"
   ]
  },
  {
   "cell_type": "markdown",
   "metadata": {},
   "source": [
    "Define a function that checks whether a positive integer is prime."
   ]
  },
  {
   "cell_type": "code",
   "execution_count": null,
   "metadata": {},
   "outputs": [],
   "source": [
    "def is_prime(n):\n",
    "    return all(map(lambda divisor: n % divisor != 0, range(2, round(sqrt(n)) + 1))) and n > 1"
   ]
  },
  {
   "cell_type": "markdown",
   "metadata": {},
   "source": [
    "Test the function."
   ]
  },
  {
   "cell_type": "code",
   "execution_count": null,
   "metadata": {},
   "outputs": [],
   "source": [
    "for n in range(50):\n",
    "    if is_prime(n):\n",
    "        print(f'{n} is prime')"
   ]
  },
  {
   "cell_type": "markdown",
   "metadata": {},
   "source": [
    "### Iterator"
   ]
  },
  {
   "cell_type": "markdown",
   "metadata": {
    "ExecuteTime": {
     "end_time": "2019-04-23T06:58:44.705071Z",
     "start_time": "2019-04-23T06:58:44.691050Z"
    }
   },
   "source": [
    "Define an iterator that returns all prime numbers."
   ]
  },
  {
   "cell_type": "code",
   "execution_count": null,
   "metadata": {},
   "outputs": [],
   "source": [
    "class Primes:\n",
    "    \n",
    "    def __init__(self):\n",
    "        self._n = 1\n",
    "        \n",
    "    def __iter__(self):\n",
    "        return self\n",
    "    \n",
    "    def __next__(self):\n",
    "        self._n += 1\n",
    "        while not is_prime(self._n):\n",
    "            self._n += 1\n",
    "        return self._n"
   ]
  },
  {
   "cell_type": "code",
   "execution_count": null,
   "metadata": {},
   "outputs": [],
   "source": [
    "nr_primes = 0\n",
    "for prime in Primes():\n",
    "    if nr_primes == 10:\n",
    "        break\n",
    "    print(prime)\n",
    "    nr_primes += 1"
   ]
  },
  {
   "cell_type": "markdown",
   "metadata": {},
   "source": [
    "### Generator function"
   ]
  },
  {
   "cell_type": "markdown",
   "metadata": {},
   "source": [
    "Define a function using `yield`.  The function will resume after the yielded value has been consumed in the calling context."
   ]
  },
  {
   "cell_type": "code",
   "execution_count": null,
   "metadata": {},
   "outputs": [],
   "source": [
    "def primes():\n",
    "    n = 2\n",
    "    while True:\n",
    "        if is_prime(n):\n",
    "            yield n\n",
    "        n += 1    "
   ]
  },
  {
   "cell_type": "code",
   "execution_count": null,
   "metadata": {},
   "outputs": [],
   "source": [
    "nr_primes = 0\n",
    "for prime in primes():\n",
    "    if nr_primes == 10:\n",
    "        break\n",
    "    print(prime)\n",
    "    nr_primes += 1"
   ]
  },
  {
   "cell_type": "markdown",
   "metadata": {},
   "source": [
    "Note that the state of the function is preserved between calls, hence retaining state."
   ]
  },
  {
   "cell_type": "markdown",
   "metadata": {},
   "source": [
    "### Generator"
   ]
  },
  {
   "cell_type": "markdown",
   "metadata": {},
   "source": [
    "However, things can be even simpler in Python by simply using a generator expression."
   ]
  },
  {
   "cell_type": "code",
   "execution_count": null,
   "metadata": {},
   "outputs": [],
   "source": [
    "for i, prime in enumerate(p for p in range(10000000) if is_prime(p)):\n",
    "    print(prime)\n",
    "    if i == 9:\n",
    "        break"
   ]
  },
  {
   "cell_type": "markdown",
   "metadata": {
    "ExecuteTime": {
     "end_time": "2019-04-23T07:59:29.880450Z",
     "start_time": "2019-04-23T07:59:29.868591Z"
    }
   },
   "source": [
    "Although this is really short, it is also a bit unelegant since the number to range over has to be guessed."
   ]
  },
  {
   "cell_type": "markdown",
   "metadata": {},
   "source": [
    "### itertools"
   ]
  },
  {
   "cell_type": "markdown",
   "metadata": {},
   "source": [
    "The `itertools` module provides many (composable) iterators."
   ]
  },
  {
   "cell_type": "code",
   "execution_count": null,
   "metadata": {},
   "outputs": [],
   "source": [
    "for i, prime in enumerate(p for p in itertools.count(2) if is_prime(p)):\n",
    "    print(prime)\n",
    "    if i == 9:\n",
    "        break"
   ]
  },
  {
   "cell_type": "markdown",
   "metadata": {},
   "source": [
    "It is beyond the scope of this presentation to introduce `itertools` in depth, but it is very much worth exploring."
   ]
  },
  {
   "cell_type": "markdown",
   "metadata": {},
   "source": [
    "## $N$ queens"
   ]
  },
  {
   "cell_type": "markdown",
   "metadata": {},
   "source": [
    "Load the relevant modules."
   ]
  },
  {
   "cell_type": "code",
   "execution_count": null,
   "metadata": {},
   "outputs": [],
   "source": [
    "import matplotlib.pyplot as plt\n",
    "%matplotlib inline\n",
    "import numpy as np\n",
    "import sys"
   ]
  },
  {
   "cell_type": "markdown",
   "metadata": {},
   "source": [
    "Consider an $N \\times N$ chess board.  We want to place $N$ queens on that board such that none of them can take any of the other $N - 1$ queens."
   ]
  },
  {
   "cell_type": "markdown",
   "metadata": {},
   "source": [
    "Note that the usual implementation is uses backtracking explicitly, and requires quite some coding to keep track of the options that have already been explored and those that remain to be checked.  Using `yield` to define a generator allows you to simply program a recursive solution."
   ]
  },
  {
   "cell_type": "markdown",
   "metadata": {},
   "source": [
    "Define a function that creates an empty $N \\times N$ board. A board is represented as a numpy array, a 0 element represents an empty position on the board, while 1 indicates a queen has been placed on the corresponding square."
   ]
  },
  {
   "cell_type": "code",
   "execution_count": null,
   "metadata": {},
   "outputs": [],
   "source": [
    "def create_board(N):\n",
    "    return np.zeros((N, N), dtype=np.int)"
   ]
  },
  {
   "cell_type": "markdown",
   "metadata": {},
   "source": [
    "Define a function that checks whether a given row and column are a safe position to place a queen."
   ]
  },
  {
   "cell_type": "code",
   "execution_count": null,
   "metadata": {},
   "outputs": [],
   "source": [
    "def is_safe_position(board, row, col):\n",
    "    # check column\n",
    "    if np.any(board[:row, col]):\n",
    "        return False\n",
    "    # row is okay by construction\n",
    "    N = board.shape[0]\n",
    "    # check principal diagonal\n",
    "    for i, j in zip(range(max((0, row - col)), min((N + row - col, N))),\n",
    "                    range(max((0, col - row)), min((N + col - row, N)))):\n",
    "        if board[i, j]:\n",
    "            return False\n",
    "    # check minor diagonal\n",
    "    for i, j in zip(range(min((row + col, N - 1)), max((-1, col + row - N - 1)), -1),\n",
    "                    range(max((0, col + row - N + 1)), min((row + col + 1, N)))):\n",
    "        if board[i, j]:\n",
    "            return False\n",
    "    return True"
   ]
  },
  {
   "cell_type": "markdown",
   "metadata": {},
   "source": [
    "Note, the function above can be made more efficient since only the upper part of the board should be checked."
   ]
  },
  {
   "cell_type": "markdown",
   "metadata": {},
   "source": [
    "Define a function that returns all valid placements of $N$ queens."
   ]
  },
  {
   "cell_type": "code",
   "execution_count": null,
   "metadata": {},
   "outputs": [],
   "source": [
    "def place_queens(board, row=0):\n",
    "    if row == board.shape[0]:\n",
    "        yield board\n",
    "    else:\n",
    "        for col in range(0, board.shape[1]):\n",
    "            if is_safe_position(board, row, col):\n",
    "                board[row, col] = 1\n",
    "                yield from place_queens(board, row + 1)\n",
    "                board[row, col] = 0"
   ]
  },
  {
   "cell_type": "markdown",
   "metadata": {},
   "source": [
    "Define a function to visualize a board."
   ]
  },
  {
   "cell_type": "code",
   "execution_count": null,
   "metadata": {},
   "outputs": [],
   "source": [
    "def vis_board(board):\n",
    "    N = board.shape[0]\n",
    "    plt.imshow(board, aspect='equal', interpolation='none', extent=(0, N, 0, N))\n",
    "    plt.xticks(range(N))\n",
    "    plt.yticks(range(N))\n",
    "    plt.grid(True, color='r', linestyle='-', linewidth=1);"
   ]
  },
  {
   "cell_type": "markdown",
   "metadata": {},
   "source": [
    "For a $3 \\times 3$ board, there are no solutions."
   ]
  },
  {
   "cell_type": "code",
   "execution_count": null,
   "metadata": {},
   "outputs": [],
   "source": [
    "board = create_board(3)\n",
    "for solution in place_queens(board):\n",
    "    vis_board(solution)\n",
    "    plt.show()"
   ]
  },
  {
   "cell_type": "markdown",
   "metadata": {},
   "source": [
    "For a $4 \\times 4$ board, there are two solutions."
   ]
  },
  {
   "cell_type": "code",
   "execution_count": null,
   "metadata": {},
   "outputs": [],
   "source": [
    "board = create_board(4)\n",
    "for solution in place_queens(board):\n",
    "    vis_board(solution)\n",
    "    plt.show()"
   ]
  },
  {
   "cell_type": "markdown",
   "metadata": {},
   "source": [
    "More solutions can be found for a $5 \\times 5$ board.  In fact, this can be seen as finding a solution for five $4 \\tmies 4$ boards."
   ]
  },
  {
   "cell_type": "code",
   "execution_count": null,
   "metadata": {
    "scrolled": false
   },
   "outputs": [],
   "source": [
    "board = create_board(5)\n",
    "for solution in place_queens(board):\n",
    "    vis_board(solution)\n",
    "    plt.show()"
   ]
  },
  {
   "cell_type": "markdown",
   "metadata": {},
   "source": [
    "Compute the number of solutions for successive board sizes."
   ]
  },
  {
   "cell_type": "code",
   "execution_count": null,
   "metadata": {},
   "outputs": [],
   "source": [
    "for N in range(1, 11):\n",
    "    nr_solutions = 0\n",
    "    board = create_board(N)\n",
    "    for _ in place_queens(board):\n",
    "        nr_solutions += 1\n",
    "    print(f'{N} x {N}: {nr_solutions}')"
   ]
  }
 ],
 "metadata": {
  "kernelspec": {
   "display_name": "Python 3",
   "language": "python",
   "name": "python3"
  },
  "language_info": {
   "codemirror_mode": {
    "name": "ipython",
    "version": 3
   },
   "file_extension": ".py",
   "mimetype": "text/x-python",
   "name": "python",
   "nbconvert_exporter": "python",
   "pygments_lexer": "ipython3",
   "version": "3.7.4"
  }
 },
 "nbformat": 4,
 "nbformat_minor": 2
}
