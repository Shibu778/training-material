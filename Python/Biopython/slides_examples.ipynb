{
 "cells": [
  {
   "cell_type": "markdown",
   "metadata": {},
   "source": [
    "# Slides examples"
   ]
  },
  {
   "cell_type": "markdown",
   "metadata": {},
   "source": [
    "## Record slicing"
   ]
  },
  {
   "cell_type": "code",
   "execution_count": 1,
   "metadata": {},
   "outputs": [],
   "source": [
    "from Bio import SeqIO"
   ]
  },
  {
   "cell_type": "code",
   "execution_count": 2,
   "metadata": {},
   "outputs": [],
   "source": [
    "seq_records = SeqIO.parse('Data/384871682.gbk', 'genbank')"
   ]
  },
  {
   "cell_type": "code",
   "execution_count": 3,
   "metadata": {
    "collapsed": false,
    "jupyter": {
     "outputs_hidden": false
    }
   },
   "outputs": [],
   "source": [
    "seq_record = next(seq_records)"
   ]
  },
  {
   "cell_type": "code",
   "execution_count": 4,
   "metadata": {
    "collapsed": false,
    "jupyter": {
     "outputs_hidden": false
    }
   },
   "outputs": [
    {
     "name": "stdout",
     "output_type": "stream",
     "text": [
      "type: source\n",
      "location: [0:2623](+)\n",
      "qualifiers:\n",
      "    Key: chromosome, Value: ['3']\n",
      "    Key: db_xref, Value: ['taxon:9606']\n",
      "    Key: map, Value: ['3p21.3']\n",
      "    Key: mol_type, Value: ['mRNA']\n",
      "    Key: organism, Value: ['Homo sapiens']\n",
      "\n",
      "type: gene\n",
      "location: [0:2623](+)\n",
      "qualifiers:\n",
      "    Key: db_xref, Value: ['GeneID:4292', 'HGNC:HGNC:7127', 'MIM:120436']\n",
      "    Key: gene, Value: ['MLH1']\n",
      "    Key: gene_synonym, Value: ['COCA2; FCC2; hMLH1; HNPCC; HNPCC2']\n",
      "    Key: note, Value: ['mutL homolog 1']\n",
      "\n",
      "type: exon\n",
      "location: [0:114](+)\n",
      "qualifiers:\n",
      "    Key: gene, Value: ['MLH1']\n",
      "    Key: gene_synonym, Value: ['COCA2; FCC2; hMLH1; HNPCC; HNPCC2']\n",
      "    Key: inference, Value: ['alignment:Splign:1.39.8']\n",
      "\n",
      "type: exon\n",
      "location: [114:205](+)\n",
      "qualifiers:\n",
      "    Key: gene, Value: ['MLH1']\n",
      "    Key: gene_synonym, Value: ['COCA2; FCC2; hMLH1; HNPCC; HNPCC2']\n",
      "    Key: inference, Value: ['alignment:Splign:1.39.8']\n",
      "\n",
      "type: exon\n",
      "location: [205:350](+)\n",
      "qualifiers:\n",
      "    Key: gene, Value: ['MLH1']\n",
      "    Key: gene_synonym, Value: ['COCA2; FCC2; hMLH1; HNPCC; HNPCC2']\n",
      "    Key: inference, Value: ['alignment:Splign:1.39.8']\n",
      "\n",
      "type: misc_feature\n",
      "location: [317:320](+)\n",
      "qualifiers:\n",
      "    Key: gene, Value: ['MLH1']\n",
      "    Key: gene_synonym, Value: ['COCA2; FCC2; hMLH1; HNPCC; HNPCC2']\n",
      "    Key: note, Value: ['upstream in-frame stop codon']\n",
      "\n",
      "type: exon\n",
      "location: [350:449](+)\n",
      "qualifiers:\n",
      "    Key: gene, Value: ['MLH1']\n",
      "    Key: gene_synonym, Value: ['COCA2; FCC2; hMLH1; HNPCC; HNPCC2']\n",
      "    Key: inference, Value: ['alignment:Splign:1.39.8']\n",
      "\n",
      "type: exon\n",
      "location: [449:523](+)\n",
      "qualifiers:\n",
      "    Key: gene, Value: ['MLH1']\n",
      "    Key: gene_synonym, Value: ['COCA2; FCC2; hMLH1; HNPCC; HNPCC2']\n",
      "    Key: inference, Value: ['alignment:Splign:1.39.8']\n",
      "\n",
      "type: exon\n",
      "location: [523:596](+)\n",
      "qualifiers:\n",
      "    Key: gene, Value: ['MLH1']\n",
      "    Key: gene_synonym, Value: ['COCA2; FCC2; hMLH1; HNPCC; HNPCC2']\n",
      "    Key: inference, Value: ['alignment:Splign:1.39.8']\n",
      "\n",
      "type: exon\n",
      "location: [596:688](+)\n",
      "qualifiers:\n",
      "    Key: gene, Value: ['MLH1']\n",
      "    Key: gene_synonym, Value: ['COCA2; FCC2; hMLH1; HNPCC; HNPCC2']\n",
      "    Key: inference, Value: ['alignment:Splign:1.39.8']\n",
      "\n",
      "type: exon\n",
      "location: [688:731](+)\n",
      "qualifiers:\n",
      "    Key: gene, Value: ['MLH1']\n",
      "    Key: gene_synonym, Value: ['COCA2; FCC2; hMLH1; HNPCC; HNPCC2']\n",
      "    Key: inference, Value: ['alignment:Splign:1.39.8']\n",
      "\n",
      "type: exon\n",
      "location: [731:820](+)\n",
      "qualifiers:\n",
      "    Key: gene, Value: ['MLH1']\n",
      "    Key: gene_synonym, Value: ['COCA2; FCC2; hMLH1; HNPCC; HNPCC2']\n",
      "    Key: inference, Value: ['alignment:Splign:1.39.8']\n",
      "\n",
      "type: exon\n",
      "location: [820:933](+)\n",
      "qualifiers:\n",
      "    Key: gene, Value: ['MLH1']\n",
      "    Key: gene_synonym, Value: ['COCA2; FCC2; hMLH1; HNPCC; HNPCC2']\n",
      "    Key: inference, Value: ['alignment:Splign:1.39.8']\n",
      "\n",
      "type: CDS\n",
      "location: [866:2414](+)\n",
      "qualifiers:\n",
      "    Key: codon_start, Value: ['1']\n",
      "    Key: db_xref, Value: ['GI:384871683', 'CCDS:CCDS54563.1', 'GeneID:4292', 'HGNC:HGNC:7127', 'MIM:120436']\n",
      "    Key: gene, Value: ['MLH1']\n",
      "    Key: gene_synonym, Value: ['COCA2; FCC2; hMLH1; HNPCC; HNPCC2']\n",
      "    Key: note, Value: ['isoform 3 is encoded by transcript variant 7; DNA mismatch repair protein Mlh1; mutL homolog 1, colon cancer, nonpolyposis type 2']\n",
      "    Key: product, Value: ['DNA mismatch repair protein Mlh1 isoform 3']\n",
      "    Key: protein_id, Value: ['NP_001245203.1']\n",
      "    Key: translation, Value: ['MNGYISNANYSVKKCIFLLFINHRLVESTSLRKAIETVYAAYLPKNTHPFLYLSLEISPQNVDVNVHPTKHEVHFLHEESILERVQQHIESKLLGSNSSRMYFTQTLLPGLAGPSGEMVKSTTSLTSSSTSGSSDKVYAHQMVRTDSREQKLDAFLQPLSKPLSSQPQAIVTEDKTDISSGRARQQDEEMLELPAPAEVAAKNQSLEGDTTKGTSEMSEKRGPTSSNPRKRHREDSDVEMVEDDSRKEMTAACTPRRRIINLTSVLSLQEEINEQGHEVLREMLHNHSFVGCVNPQWALAQHQTKLYLLNTTKLSEELFYQILIYDFANFGVLRLSEPAPLFDLAMLALDSPESGWTEEDGPKEGLAEYIVEFLKKKAEMLADYFSLEIDEEGNLIGLPLLIDNYVPPLEGLPIFILRLATEVNWDEEKECFESLSKECAMFYSIRKQYISEESTLSGQQSEVPGSIPNSWKWTVEHIVYKALRSHILPPKHFTEDGNILQLANLPDLYKVFERC']\n",
      "\n",
      "type: exon\n",
      "location: [933:1027](+)\n",
      "qualifiers:\n",
      "    Key: gene, Value: ['MLH1']\n",
      "    Key: gene_synonym, Value: ['COCA2; FCC2; hMLH1; HNPCC; HNPCC2']\n",
      "    Key: inference, Value: ['alignment:Splign:1.39.8']\n",
      "\n",
      "type: exon\n",
      "location: [1027:1181](+)\n",
      "qualifiers:\n",
      "    Key: gene, Value: ['MLH1']\n",
      "    Key: gene_synonym, Value: ['COCA2; FCC2; hMLH1; HNPCC; HNPCC2']\n",
      "    Key: inference, Value: ['alignment:Splign:1.39.8']\n",
      "\n",
      "type: exon\n",
      "location: [1181:1552](+)\n",
      "qualifiers:\n",
      "    Key: gene, Value: ['MLH1']\n",
      "    Key: gene_synonym, Value: ['COCA2; FCC2; hMLH1; HNPCC; HNPCC2']\n",
      "    Key: inference, Value: ['alignment:Splign:1.39.8']\n",
      "\n",
      "type: exon\n",
      "location: [1552:1701](+)\n",
      "qualifiers:\n",
      "    Key: gene, Value: ['MLH1']\n",
      "    Key: gene_synonym, Value: ['COCA2; FCC2; hMLH1; HNPCC; HNPCC2']\n",
      "    Key: inference, Value: ['alignment:Splign:1.39.8']\n",
      "\n",
      "type: exon\n",
      "location: [1701:1810](+)\n",
      "qualifiers:\n",
      "    Key: gene, Value: ['MLH1']\n",
      "    Key: gene_synonym, Value: ['COCA2; FCC2; hMLH1; HNPCC; HNPCC2']\n",
      "    Key: inference, Value: ['alignment:Splign:1.39.8']\n",
      "\n",
      "type: exon\n",
      "location: [1810:1874](+)\n",
      "qualifiers:\n",
      "    Key: gene, Value: ['MLH1']\n",
      "    Key: gene_synonym, Value: ['COCA2; FCC2; hMLH1; HNPCC; HNPCC2']\n",
      "    Key: inference, Value: ['alignment:Splign:1.39.8']\n",
      "\n",
      "type: exon\n",
      "location: [1874:2039](+)\n",
      "qualifiers:\n",
      "    Key: gene, Value: ['MLH1']\n",
      "    Key: gene_synonym, Value: ['COCA2; FCC2; hMLH1; HNPCC; HNPCC2']\n",
      "    Key: inference, Value: ['alignment:Splign:1.39.8']\n",
      "\n",
      "type: exon\n",
      "location: [2039:2132](+)\n",
      "qualifiers:\n",
      "    Key: gene, Value: ['MLH1']\n",
      "    Key: gene_synonym, Value: ['COCA2; FCC2; hMLH1; HNPCC; HNPCC2']\n",
      "    Key: inference, Value: ['alignment:Splign:1.39.8']\n",
      "\n",
      "type: exon\n",
      "location: [2132:2246](+)\n",
      "qualifiers:\n",
      "    Key: gene, Value: ['MLH1']\n",
      "    Key: gene_synonym, Value: ['COCA2; FCC2; hMLH1; HNPCC; HNPCC2']\n",
      "    Key: inference, Value: ['alignment:Splign:1.39.8']\n",
      "\n",
      "type: exon\n",
      "location: [2246:2607](+)\n",
      "qualifiers:\n",
      "    Key: gene, Value: ['MLH1']\n",
      "    Key: gene_synonym, Value: ['COCA2; FCC2; hMLH1; HNPCC; HNPCC2']\n",
      "    Key: inference, Value: ['alignment:Splign:1.39.8']\n",
      "\n",
      "type: STS\n",
      "location: [2372:2455](+)\n",
      "qualifiers:\n",
      "    Key: db_xref, Value: ['UniSTS:150834']\n",
      "    Key: gene, Value: ['MLH1']\n",
      "    Key: gene_synonym, Value: ['COCA2; FCC2; hMLH1; HNPCC; HNPCC2']\n",
      "    Key: standard_name, Value: ['D3S2795E']\n",
      "\n",
      "type: STS\n",
      "location: [2427:2579](+)\n",
      "qualifiers:\n",
      "    Key: db_xref, Value: ['UniSTS:71374']\n",
      "    Key: gene, Value: ['MLH1']\n",
      "    Key: gene_synonym, Value: ['COCA2; FCC2; hMLH1; HNPCC; HNPCC2']\n",
      "    Key: standard_name, Value: ['SHGC-12575']\n",
      "\n",
      "type: regulatory\n",
      "location: [2582:2588](+)\n",
      "qualifiers:\n",
      "    Key: gene, Value: ['MLH1']\n",
      "    Key: gene_synonym, Value: ['COCA2; FCC2; hMLH1; HNPCC; HNPCC2']\n",
      "    Key: regulatory_class, Value: ['polyA_signal_sequence']\n",
      "\n",
      "type: polyA_site\n",
      "location: [2601:2602](+)\n",
      "qualifiers:\n",
      "    Key: gene, Value: ['MLH1']\n",
      "    Key: gene_synonym, Value: ['COCA2; FCC2; hMLH1; HNPCC; HNPCC2']\n",
      "\n",
      "type: polyA_site\n",
      "location: [2606:2607](+)\n",
      "qualifiers:\n",
      "    Key: gene, Value: ['MLH1']\n",
      "    Key: gene_synonym, Value: ['COCA2; FCC2; hMLH1; HNPCC; HNPCC2']\n",
      "\n"
     ]
    }
   ],
   "source": [
    "for feature in seq_record.features:\n",
    "    print(feature)"
   ]
  },
  {
   "cell_type": "code",
   "execution_count": 5,
   "metadata": {},
   "outputs": [],
   "source": [
    "exon_feature = seq_record.features[3]"
   ]
  },
  {
   "cell_type": "code",
   "execution_count": 6,
   "metadata": {},
   "outputs": [],
   "source": [
    "start_pos = int(exon_feature.location.start)\n",
    "end_pos = int(exon_feature.location.end)"
   ]
  },
  {
   "cell_type": "code",
   "execution_count": 7,
   "metadata": {},
   "outputs": [],
   "source": [
    "exon_record = seq_record[start_pos:end_pos]"
   ]
  },
  {
   "cell_type": "code",
   "execution_count": 8,
   "metadata": {
    "collapsed": false,
    "jupyter": {
     "outputs_hidden": false
    }
   },
   "outputs": [
    {
     "name": "stdout",
     "output_type": "stream",
     "text": [
      "TTTAGATGCAAAATCCACAAGTATTCAAGTGATTGTTAAAGAGGGAGGCCTGAAGTTGATTCAGATCCAAGACAATGGCACCGGGATCAGG\n"
     ]
    }
   ],
   "source": [
    "print(exon_record.seq)"
   ]
  },
  {
   "cell_type": "code",
   "execution_count": 9,
   "metadata": {
    "collapsed": false,
    "jupyter": {
     "outputs_hidden": false
    }
   },
   "outputs": [
    {
     "name": "stdout",
     "output_type": "stream",
     "text": [
      "type: exon\n",
      "location: [0:91](+)\n",
      "qualifiers:\n",
      "    Key: gene, Value: ['MLH1']\n",
      "    Key: gene_synonym, Value: ['COCA2; FCC2; hMLH1; HNPCC; HNPCC2']\n",
      "    Key: inference, Value: ['alignment:Splign:1.39.8']\n",
      "\n"
     ]
    }
   ],
   "source": [
    "for feature in exon_record.features:\n",
    "    print(feature)"
   ]
  }
 ],
 "metadata": {
  "kernelspec": {
   "display_name": "Python 3",
   "language": "python",
   "name": "python3"
  },
  "language_info": {
   "codemirror_mode": {
    "name": "ipython",
    "version": 3
   },
   "file_extension": ".py",
   "mimetype": "text/x-python",
   "name": "python",
   "nbconvert_exporter": "python",
   "pygments_lexer": "ipython3",
   "version": "3.7.6"
  }
 },
 "nbformat": 4,
 "nbformat_minor": 4
}
